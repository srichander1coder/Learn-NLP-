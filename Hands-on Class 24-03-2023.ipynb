{
 "cells": [
  {
   "cell_type": "markdown",
   "id": "27375a84",
   "metadata": {},
   "source": [
    "# Using spacy for POS tagging"
   ]
  },
  {
   "cell_type": "code",
   "execution_count": 1,
   "id": "237d4cf7",
   "metadata": {},
   "outputs": [
    {
     "name": "stdout",
     "output_type": "stream",
     "text": [
      "The text is:  Apple is looking at buying U.K. startup for $1 billion\n",
      "\n",
      "\n",
      "The part of speexh tagging for each text particle used is: \n",
      "Text       Part of speech  POS Dependency\n",
      " \n",
      "Apple      PROPN           nsubj     \n",
      "is         AUX             aux       \n",
      "looking    VERB            ROOT      \n",
      "at         ADP             prep      \n",
      "buying     VERB            pcomp     \n",
      "U.K.       PROPN           compound  \n",
      "startup    NOUN            dobj      \n",
      "for        ADP             prep      \n",
      "$          SYM             quantmod  \n",
      "1          NUM             compound  \n",
      "billion    NUM             pobj      \n"
     ]
    }
   ],
   "source": [
    "import spacy\n",
    "from spacy.lang.en.examples import sentences \n",
    "\n",
    "nlp = spacy.load(\"en_core_web_sm\")\n",
    "doc = nlp(sentences[0])\n",
    "print(\"The text is: \", doc.text)\n",
    "print(\"\\n\")\n",
    "print(\"The part of speexh tagging for each text particle used is: \")\n",
    "print (\"{:<10} {:<15} {:<10}\".format('Text','Part of speech','POS Dependency'))\n",
    "print(\" \")\n",
    "for token in doc:\n",
    "    print(\"{:<10} {:<15} {:<10}\".format(token.text, token.pos_, token.dep_))"
   ]
  },
  {
   "cell_type": "markdown",
   "id": "a215f22a",
   "metadata": {},
   "source": [
    "# Vectorizing and Doing a sentiment analysis on a random Data."
   ]
  },
  {
   "cell_type": "markdown",
   "id": "55614185",
   "metadata": {},
   "source": [
    "Step 1: Loading the dataset"
   ]
  },
  {
   "cell_type": "code",
   "execution_count": 1,
   "id": "23f8b69b",
   "metadata": {},
   "outputs": [
    {
     "data": {
      "text/html": [
       "<div>\n",
       "<style scoped>\n",
       "    .dataframe tbody tr th:only-of-type {\n",
       "        vertical-align: middle;\n",
       "    }\n",
       "\n",
       "    .dataframe tbody tr th {\n",
       "        vertical-align: top;\n",
       "    }\n",
       "\n",
       "    .dataframe thead th {\n",
       "        text-align: right;\n",
       "    }\n",
       "</style>\n",
       "<table border=\"1\" class=\"dataframe\">\n",
       "  <thead>\n",
       "    <tr style=\"text-align: right;\">\n",
       "      <th></th>\n",
       "      <th>review</th>\n",
       "      <th>sentiment</th>\n",
       "    </tr>\n",
       "  </thead>\n",
       "  <tbody>\n",
       "    <tr>\n",
       "      <th>0</th>\n",
       "      <td>One of the other reviewers has mentioned that ...</td>\n",
       "      <td>positive</td>\n",
       "    </tr>\n",
       "    <tr>\n",
       "      <th>1</th>\n",
       "      <td>A wonderful little production. &lt;br /&gt;&lt;br /&gt;The...</td>\n",
       "      <td>positive</td>\n",
       "    </tr>\n",
       "    <tr>\n",
       "      <th>2</th>\n",
       "      <td>I thought this was a wonderful way to spend ti...</td>\n",
       "      <td>positive</td>\n",
       "    </tr>\n",
       "    <tr>\n",
       "      <th>3</th>\n",
       "      <td>Basically there's a family where a little boy ...</td>\n",
       "      <td>negative</td>\n",
       "    </tr>\n",
       "    <tr>\n",
       "      <th>4</th>\n",
       "      <td>Petter Mattei's \"Love in the Time of Money\" is...</td>\n",
       "      <td>positive</td>\n",
       "    </tr>\n",
       "  </tbody>\n",
       "</table>\n",
       "</div>"
      ],
      "text/plain": [
       "                                              review sentiment\n",
       "0  One of the other reviewers has mentioned that ...  positive\n",
       "1  A wonderful little production. <br /><br />The...  positive\n",
       "2  I thought this was a wonderful way to spend ti...  positive\n",
       "3  Basically there's a family where a little boy ...  negative\n",
       "4  Petter Mattei's \"Love in the Time of Money\" is...  positive"
      ]
     },
     "execution_count": 1,
     "metadata": {},
     "output_type": "execute_result"
    }
   ],
   "source": [
    "import pandas as pd\n",
    "df= pd.read_csv(\"IMDB Dataset.csv\")\n",
    "df.head()"
   ]
  },
  {
   "cell_type": "code",
   "execution_count": 2,
   "id": "ee191772",
   "metadata": {},
   "outputs": [
    {
     "data": {
      "text/plain": [
       "\"One of the other reviewers has mentioned that after watching just 1 Oz episode you'll be hooked. They are right, as this is exactly what happened with me.<br /><br />The first thing that struck me about Oz was its brutality and unflinching scenes of violence, which set in right from the word GO. Trust me, this is not a show for the faint hearted or timid. This show pulls no punches with regards to drugs, sex or violence. Its is hardcore, in the classic use of the word.<br /><br />It is called OZ as that is the nickname given to the Oswald Maximum Security State Penitentary. It focuses mainly on Emerald City, an experimental section of the prison where all the cells have glass fronts and face inwards, so privacy is not high on the agenda. Em City is home to many..Aryans, Muslims, gangstas, Latinos, Christians, Italians, Irish and more....so scuffles, death stares, dodgy dealings and shady agreements are never far away.<br /><br />I would say the main appeal of the show is due to the fact that it goes where other shows wouldn't dare. Forget pretty pictures painted for mainstream audiences, forget charm, forget romance...OZ doesn't mess around. The first episode I ever saw struck me as so nasty it was surreal, I couldn't say I was ready for it, but as I watched more, I developed a taste for Oz, and got accustomed to the high levels of graphic violence. Not just violence, but injustice (crooked guards who'll be sold out for a nickel, inmates who'll kill on order and get away with it, well mannered, middle class inmates being turned into prison bitches due to their lack of street skills or prison experience) Watching Oz, you may become comfortable with what is uncomfortable viewing....thats if you can get in touch with your darker side.\""
      ]
     },
     "execution_count": 2,
     "metadata": {},
     "output_type": "execute_result"
    }
   ],
   "source": [
    "df['review'][0]  #First review of the data"
   ]
  },
  {
   "cell_type": "markdown",
   "id": "3f70bbe6",
   "metadata": {},
   "source": [
    "Step 2: Data Preparation"
   ]
  },
  {
   "cell_type": "code",
   "execution_count": 3,
   "id": "4d6ecd7b",
   "metadata": {},
   "outputs": [],
   "source": [
    "# Use regex to scrape of noisy data."
   ]
  },
  {
   "cell_type": "markdown",
   "id": "6a9cb598",
   "metadata": {},
   "source": [
    "Step 3: Stemming"
   ]
  },
  {
   "cell_type": "code",
   "execution_count": 4,
   "id": "f37b057c",
   "metadata": {},
   "outputs": [],
   "source": [
    "from nltk.stem.porter import PorterStemmer\n",
    "porter= PorterStemmer()"
   ]
  },
  {
   "cell_type": "code",
   "execution_count": 5,
   "id": "50028d9a",
   "metadata": {},
   "outputs": [],
   "source": [
    "def stemmer_tokenize(text):\n",
    "    return[porter.stem(word) for word in text.split()]"
   ]
  },
  {
   "cell_type": "code",
   "execution_count": 6,
   "id": "06bd354f",
   "metadata": {},
   "outputs": [],
   "source": [
    "#To get rid of stop words use nltk.download('stopwords') which is not required here as the data is quite free."
   ]
  },
  {
   "cell_type": "code",
   "execution_count": 7,
   "id": "1c25a938",
   "metadata": {},
   "outputs": [
    {
     "data": {
      "text/plain": [
       "['hello,',\n",
       " 'may',\n",
       " 'everyon',\n",
       " 'feel',\n",
       " 'free',\n",
       " 'to',\n",
       " 'be',\n",
       " 'seat',\n",
       " 'and',\n",
       " 'get',\n",
       " 'aboard',\n",
       " 'for',\n",
       " 'the',\n",
       " 'upcom',\n",
       " 'journey!:)']"
      ]
     },
     "execution_count": 7,
     "metadata": {},
     "output_type": "execute_result"
    }
   ],
   "source": [
    "stemmer_tokenize(\"Hello, may everyone feel free to be seated and get aboard for the upcoming journey!:)\")"
   ]
  },
  {
   "cell_type": "markdown",
   "id": "85092aec",
   "metadata": {},
   "source": [
    "Step 4: TF-IDF Vectorization"
   ]
  },
  {
   "cell_type": "code",
   "execution_count": 11,
   "id": "a56dc581",
   "metadata": {},
   "outputs": [],
   "source": [
    "from sklearn.feature_extraction.text import TfidfVectorizer as TFIDV\n",
    "tfidf= TFIDV(strip_accents= None,\n",
    "            lowercase= False,\n",
    "            tokenizer= stemmer_tokenize,\n",
    "            use_idf= True,\n",
    "            norm='l2',\n",
    "            smooth_idf= True)\n",
    "X= tfidf.fit_transform(df.review)\n",
    "Y= df.sentiment.values"
   ]
  },
  {
   "cell_type": "markdown",
   "id": "f0fbfd5a",
   "metadata": {},
   "source": [
    "Step 5: Splitting the data into train and test"
   ]
  },
  {
   "cell_type": "code",
   "execution_count": 12,
   "id": "2ece25c6",
   "metadata": {},
   "outputs": [],
   "source": [
    "from sklearn.model_selection import train_test_split\n",
    "x_train, x_test, y_train, y_test= train_test_split(X,Y,random_state=1, test_size=0.5)"
   ]
  },
  {
   "cell_type": "markdown",
   "id": "30370099",
   "metadata": {},
   "source": [
    "Step 6: Creating a testing model"
   ]
  },
  {
   "cell_type": "code",
   "execution_count": 13,
   "id": "8af07305",
   "metadata": {},
   "outputs": [
    {
     "name": "stderr",
     "output_type": "stream",
     "text": [
      "[Parallel(n_jobs=1)]: Using backend SequentialBackend with 1 concurrent workers.\n",
      "[Parallel(n_jobs=1)]: Done   1 out of   1 | elapsed:  2.2min remaining:    0.0s\n",
      "[Parallel(n_jobs=1)]: Done   5 out of   5 | elapsed: 11.5min finished\n"
     ]
    }
   ],
   "source": [
    "import pickle\n",
    "from sklearn.linear_model import LogisticRegressionCV as LRCV\n",
    "clf= LRCV(cv=5,\n",
    "         scoring= 'accuracy',\n",
    "         random_state= 0,\n",
    "         n_jobs= 1,\n",
    "         verbose= 2,\n",
    "         max_iter= 300).fit(x_train, y_train)"
   ]
  },
  {
   "cell_type": "markdown",
   "id": "145ea352",
   "metadata": {},
   "source": [
    "Step 7: Save the model in the present state using pickle"
   ]
  },
  {
   "cell_type": "code",
   "execution_count": 14,
   "id": "e5d0aa60",
   "metadata": {},
   "outputs": [],
   "source": [
    "saved_model= open('saved_model.sav','wb')\n",
    "pickle.dump(clf, saved_model)\n",
    "saved_model.close()"
   ]
  },
  {
   "cell_type": "markdown",
   "id": "21283902",
   "metadata": {},
   "source": [
    "Step 8:From the saved model analyse it's accuracy for the data"
   ]
  },
  {
   "cell_type": "code",
   "execution_count": 15,
   "id": "751f45bb",
   "metadata": {},
   "outputs": [
    {
     "name": "stdout",
     "output_type": "stream",
     "text": [
      "The accuracy score is 89.00\n"
     ]
    }
   ],
   "source": [
    "saved_clf= pickle.load(open('saved_model.sav','rb'))\n",
    "accuracy= saved_clf.score(x_test, y_test)\n",
    "accuracp=accuracy*100\n",
    "print(\"The accuracy score is {acc:.2f}\".format(acc=accuracp))"
   ]
  }
 ],
 "metadata": {
  "kernelspec": {
   "display_name": "Python 3 (ipykernel)",
   "language": "python",
   "name": "python3"
  },
  "language_info": {
   "codemirror_mode": {
    "name": "ipython",
    "version": 3
   },
   "file_extension": ".py",
   "mimetype": "text/x-python",
   "name": "python",
   "nbconvert_exporter": "python",
   "pygments_lexer": "ipython3",
   "version": "3.9.13"
  }
 },
 "nbformat": 4,
 "nbformat_minor": 5
}
